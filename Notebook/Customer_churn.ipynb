{
 "cells": [
  {
   "cell_type": "markdown",
   "metadata": {},
   "source": [
    "## Customer Churn Prediction\n",
    "\n"
   ]
  },
  {
   "cell_type": "markdown",
   "metadata": {},
   "source": [
    "### `Business Understanding`\n",
    "\n"
   ]
  },
  {
   "cell_type": "markdown",
   "metadata": {},
   "source": [
    "**Objective Business:** The main aim of Vodafone Corporation is to decrease the rate of customer attrition, a common issue in many industries, particularly telecommunications. The ultimate goal is to predict the probability of a customer discontinuing their service, pinpoint the main factors contributing to customer attrition, and devise strategies to retain customers and prevent this issue.\n",
    "\n",
    "**Understanding Current Situation:** At present, Vodafone has customer data at its disposal, provided by the business development unit and the marketing and sales team. This data will be utilized to construct machine learning models to forecast customer attrition.\n",
    "\n",
    "**Data Mining Goals:** The objective of data mining in this context is to create a classification model that can predict if a customer is likely to discontinue their service. This is a supervised learning problem where the model will learn from the provided data and make predictions on new data. The model should also be capable of identifying the key attributes or indicators that lead to customer attrition.\n",
    "\n",
    "**Project Plan:** The project plan would involve data preparation for analysis, selection of appropriate machine learning algorithms for model construction, model training and testing, evaluation of the model’s performance, and finally, deployment of the model for predicting customer attrition. The key indicators identified by the model can then be used to formulate effective strategies for customer retention."
   ]
  },
  {
   "cell_type": "markdown",
   "metadata": {},
   "source": [
    "###  Hypothesis\n",
    "\n",
    "**Hypothesis 1:** Customers with higher tenure are more likely to churn.\n",
    "\n",
    "**Hypothesis 2:** Customers with higher monthly charges are more likely to churn.\n",
    "\n",
    "**Hypothesis 3:** Customers with higher total charges are more likely to churn.\n",
    "\n",
    "**Hypothesis 4:** Customers with longer tenure are more likely to churn.\n",
    "\n",
    "`Null Hypothesis (H0):` There is no relationship between customers having a bad experience with the service (such as poor network quality or customer service) and the likelihood of them churning. In other words, the churn rate is the same for customers regardless of their experience with the service.\n",
    "\n",
    "`Alternative Hypothesis (H1):` Customers who have had a bad experience with the service (such as poor network quality or customer service) are more likely to churn. In other words, the churn rate is higher for customers who have had a bad experience with the service.\n",
    "\n",
    "**Null Hypothesis (H0):** Billing issues or finding the service too expensive compared to competitors has no effect on a customer’s decision to churn. In other words, customers with these concerns are just as likely to stay as those without these concerns.\n",
    "\n",
    "**Alternative Hypothesis (H1):** Customers who have had billing issues or find the service too expensive compared to competitors are more likely to churn. \n",
    "\n",
    "**Null Hypothesis (H0):** There is no significant correlation between bad service or customer satisfaction and customer churn.\n",
    "\n",
    "**Alternative Hypothesis (H0):** There is a significant correlation between bad service or customer satisfaction and customer churn."
   ]
  },
  {
   "cell_type": "markdown",
   "metadata": {},
   "source": [
    "### Analytical Questions\n",
    "\n",
    "**Question 1:** What are the most important factors that influence customer churn?\n",
    "\n",
    "**Question 2:** What are the key characteristics of customers who churn? \n",
    "\n",
    "**Question 3:** What is the proportion of customers who churn compared to those who remain? \n",
    "\n",
    "**Question 4:** What is the impact of billing issues on customer churn? \n",
    "\n",
    "**Question 5:** Are there specific customer segments that are more likely to churn? \n",
    "\n",
    "**Question 6:** What is the churn rate among new customers compared to long-term customers? \n",
    "\n",
    "**Question 7:** What is the churn rate among customers with higher tenure?\n",
    "\n",
    "**Question 8:** Does the frequency of top-ups/recharges correlate with customer churn? \n",
    "\n",
    "## `Data Understanding`\n",
    "\n",
    "\n",
    "\n",
    "\n"
   ]
  },
  {
   "cell_type": "markdown",
   "metadata": {},
   "source": [
    "#### Importations"
   ]
  },
  {
   "cell_type": "code",
   "execution_count": 10,
   "metadata": {},
   "outputs": [],
   "source": [
    "# Data Analysis and Manipulation of Packages\n",
    "\n",
    "import pyodbc     \n",
    "from dotenv import dotenv_values   \n",
    "import pandas as pd\n",
    "import numpy as np\n",
    "import scipy.stats as stats\n",
    "import seaborn as sns\n",
    "import matplotlib.pyplot as plt\n",
    "import os\n",
    "import warnings\n",
    "\n",
    "\n",
    "warnings.filterwarnings('ignore')"
   ]
  },
  {
   "cell_type": "markdown",
   "metadata": {},
   "source": [
    "#### Extracting Data"
   ]
  },
  {
   "cell_type": "code",
   "execution_count": 11,
   "metadata": {},
   "outputs": [],
   "source": [
    "# Load from SQL Database source\n",
    "\n",
    "# Load environment variables from .env file into a dictionary\n",
    "environment_variables  = dotenv_values('.env')\n",
    "\n",
    "# Get the values for the credentials you set in the '.env' file\n",
    "database = environment_variables.get(\"DATABASE\")\n",
    "server = environment_variables.get(\"SERVER\")\n",
    "username = environment_variables.get(\"USERNAME\")\n",
    "password = environment_variables.get(\"PASSWORD\")"
   ]
  },
  {
   "cell_type": "code",
   "execution_count": 12,
   "metadata": {},
   "outputs": [
    {
     "ename": "OperationalError",
     "evalue": "('08001', '[08001] [Microsoft][ODBC SQL Server Driver][DBNETLIB]SQL Server does not exist or access denied. (17) (SQLDriverConnect); [08001] [Microsoft][ODBC SQL Server Driver][DBNETLIB]ConnectionOpen (Connect()). (53)')",
     "output_type": "error",
     "traceback": [
      "\u001b[1;31m---------------------------------------------------------------------------\u001b[0m",
      "\u001b[1;31mOperationalError\u001b[0m                          Traceback (most recent call last)",
      "Cell \u001b[1;32mIn[12], line 5\u001b[0m\n\u001b[0;32m      2\u001b[0m connection_string \u001b[38;5;241m=\u001b[39m \u001b[38;5;124mf\u001b[39m\u001b[38;5;124m\"\u001b[39m\u001b[38;5;124mDriver=\u001b[39m\u001b[38;5;130;01m{{\u001b[39;00m\u001b[38;5;124mSQL Server\u001b[39m\u001b[38;5;130;01m}}\u001b[39;00m\u001b[38;5;124m; SERVER=\u001b[39m\u001b[38;5;132;01m{\u001b[39;00mserver\u001b[38;5;132;01m}\u001b[39;00m\u001b[38;5;124m; DATABASE=\u001b[39m\u001b[38;5;132;01m{\u001b[39;00mdatabase\u001b[38;5;132;01m}\u001b[39;00m\u001b[38;5;124m; UID=\u001b[39m\u001b[38;5;132;01m{\u001b[39;00musername\u001b[38;5;132;01m}\u001b[39;00m\u001b[38;5;124m; PWD=\u001b[39m\u001b[38;5;132;01m{\u001b[39;00mpassword\u001b[38;5;132;01m}\u001b[39;00m\u001b[38;5;124m\"\u001b[39m\n\u001b[0;32m      4\u001b[0m \u001b[38;5;66;03m# Create a new connection\u001b[39;00m\n\u001b[1;32m----> 5\u001b[0m connection \u001b[38;5;241m=\u001b[39m \u001b[43mpyodbc\u001b[49m\u001b[38;5;241;43m.\u001b[39;49m\u001b[43mconnect\u001b[49m\u001b[43m(\u001b[49m\u001b[43mconnection_string\u001b[49m\u001b[43m)\u001b[49m\n\u001b[0;32m      7\u001b[0m \u001b[38;5;66;03m# Now you can use `connection` to interact with your database\u001b[39;00m\n",
      "\u001b[1;31mOperationalError\u001b[0m: ('08001', '[08001] [Microsoft][ODBC SQL Server Driver][DBNETLIB]SQL Server does not exist or access denied. (17) (SQLDriverConnect); [08001] [Microsoft][ODBC SQL Server Driver][DBNETLIB]ConnectionOpen (Connect()). (53)')"
     ]
    }
   ],
   "source": [
    "# Your connection string\n",
    "connection_string = f\"Driver={{SQL Server}}; SERVER={server}; DATABASE={database}; UID={username}; PWD={password}\"\n",
    "\n",
    "# Create a new connection\n",
    "connection = pyodbc.connect(connection_string)\n",
    "\n",
    "# Now you can use `connection` to interact with your database"
   ]
  },
  {
   "cell_type": "code",
   "execution_count": 6,
   "metadata": {},
   "outputs": [],
   "source": [
    "# Create a connection string\n",
    "connection_string = f\"Driver={{SQL Server}}; SERVER={server}; DATABASE={database}; UID={username}; PWD={password}\""
   ]
  },
  {
   "cell_type": "code",
   "execution_count": 7,
   "metadata": {},
   "outputs": [
    {
     "ename": "OperationalError",
     "evalue": "('08001', '[08001] [Microsoft][ODBC SQL Server Driver][DBNETLIB]SQL Server does not exist or access denied. (17) (SQLDriverConnect); [08001] [Microsoft][ODBC SQL Server Driver][DBNETLIB]ConnectionOpen (Connect()). (53)')",
     "output_type": "error",
     "traceback": [
      "\u001b[1;31m---------------------------------------------------------------------------\u001b[0m",
      "\u001b[1;31mOperationalError\u001b[0m                          Traceback (most recent call last)",
      "Cell \u001b[1;32mIn[7], line 3\u001b[0m\n\u001b[0;32m      1\u001b[0m \u001b[38;5;66;03m# Use the connect method of the pyodbc library and pass in the connection string.\u001b[39;00m\n\u001b[1;32m----> 3\u001b[0m connection \u001b[38;5;241m=\u001b[39m \u001b[43mpyodbc\u001b[49m\u001b[38;5;241;43m.\u001b[39;49m\u001b[43mconnect\u001b[49m\u001b[43m(\u001b[49m\u001b[43mconnection_string\u001b[49m\u001b[43m)\u001b[49m\n",
      "\u001b[1;31mOperationalError\u001b[0m: ('08001', '[08001] [Microsoft][ODBC SQL Server Driver][DBNETLIB]SQL Server does not exist or access denied. (17) (SQLDriverConnect); [08001] [Microsoft][ODBC SQL Server Driver][DBNETLIB]ConnectionOpen (Connect()). (53)')"
     ]
    }
   ],
   "source": [
    "# Use the connect method of the pyodbc library and pass in the connection string.\n",
    "\n",
    "connection = pyodbc.connect(connection_string)"
   ]
  },
  {
   "cell_type": "code",
   "execution_count": 9,
   "metadata": {},
   "outputs": [
    {
     "ename": "NameError",
     "evalue": "name 'connection' is not defined",
     "output_type": "error",
     "traceback": [
      "\u001b[1;31m---------------------------------------------------------------------------\u001b[0m",
      "\u001b[1;31mNameError\u001b[0m                                 Traceback (most recent call last)",
      "Cell \u001b[1;32mIn[9], line 5\u001b[0m\n\u001b[0;32m      2\u001b[0m query \u001b[38;5;241m=\u001b[39m \u001b[38;5;124m\"\u001b[39m\u001b[38;5;124mSELECT * from dbo.LP2_Telco_churn_first_3000\u001b[39m\u001b[38;5;124m\"\u001b[39m\n\u001b[0;32m      4\u001b[0m  \u001b[38;5;66;03m# Execute the SQL query to load data from Table1 into pandas Dataframe\u001b[39;00m\n\u001b[1;32m----> 5\u001b[0m data_1\u001b[38;5;241m=\u001b[39m pd\u001b[38;5;241m.\u001b[39mread_sql(query, \u001b[43mconnection\u001b[49m)\n",
      "\u001b[1;31mNameError\u001b[0m: name 'connection' is not defined"
     ]
    }
   ],
   "source": [
    "# SQL query to extract the data from Table1 \n",
    "query = \"SELECT * from dbo.LP2_Telco_churn_first_3000\"\n",
    " \n",
    " # Execute the SQL query to load data from Table1 into pandas Dataframe\n",
    "data_1= pd.read_sql(query, connection)\n"
   ]
  }
 ],
 "metadata": {
  "kernelspec": {
   "display_name": "virtual_env",
   "language": "python",
   "name": "python3"
  },
  "language_info": {
   "codemirror_mode": {
    "name": "ipython",
    "version": 3
   },
   "file_extension": ".py",
   "mimetype": "text/x-python",
   "name": "python",
   "nbconvert_exporter": "python",
   "pygments_lexer": "ipython3",
   "version": "3.10.9"
  }
 },
 "nbformat": 4,
 "nbformat_minor": 2
}
